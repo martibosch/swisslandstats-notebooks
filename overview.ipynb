{
 "cells": [
  {
   "cell_type": "markdown",
   "metadata": {
    "ein.tags": "worksheet-0",
    "slideshow": {
     "slide_type": "-"
    }
   },
   "source": [
    "# Overview of SwissLandStats"
   ]
  },
  {
   "cell_type": "markdown",
   "metadata": {
    "ein.tags": "worksheet-0",
    "slideshow": {
     "slide_type": "-"
    }
   },
   "source": [
    "Let us first download and unzip the data"
   ]
  },
  {
   "cell_type": "code",
   "execution_count": 1,
   "metadata": {
    "autoscroll": false,
    "collapsed": false,
    "ein.hycell": false,
    "ein.tags": "worksheet-0",
    "slideshow": {
     "slide_type": "-"
    }
   },
   "outputs": [
    {
     "name": "stdout",
     "output_type": "stream",
     "text": [
      "make: Nothing to be done for 'download_data'.\r\n"
     ]
    }
   ],
   "source": [
    "!make download_data"
   ]
  },
  {
   "cell_type": "code",
   "execution_count": 2,
   "metadata": {
    "autoscroll": false,
    "collapsed": false,
    "ein.hycell": false,
    "ein.tags": "worksheet-0",
    "slideshow": {
     "slide_type": "-"
    }
   },
   "outputs": [],
   "source": [
    "import swisslandstats as sls"
   ]
  },
  {
   "cell_type": "markdown",
   "metadata": {
    "ein.tags": "worksheet-0",
    "slideshow": {
     "slide_type": "-"
    }
   },
   "source": [
    "## IO and plotting"
   ]
  },
  {
   "cell_type": "markdown",
   "metadata": {
    "ein.tags": "worksheet-0",
    "slideshow": {
     "slide_type": "-"
    }
   },
   "source": [
    "Now we can read the land statistics file from the Swiss Federal Statistical Office (SFSO) e.g., the Standard nomenclature NOAS04. It might take a while since there are over 2.7 million rows."
   ]
  },
  {
   "cell_type": "code",
   "execution_count": 3,
   "metadata": {
    "autoscroll": false,
    "collapsed": false,
    "ein.hycell": false,
    "ein.tags": "worksheet-0",
    "slideshow": {
     "slide_type": "-"
    }
   },
   "outputs": [],
   "source": [
    "ldf = sls.read_csv('data/AREA_NOAS04_17_181029.csv')"
   ]
  },
  {
   "cell_type": "markdown",
   "metadata": {
    "ein.tags": "worksheet-0",
    "slideshow": {
     "slide_type": "-"
    }
   },
   "source": [
    "Then `ldf` will be a `LandDataFrame` object, which extends a pandas `DataFrame` with some methods aimed to process geographic raster data."
   ]
  },
  {
   "cell_type": "code",
   "execution_count": 4,
   "metadata": {
    "autoscroll": false,
    "collapsed": false,
    "ein.hycell": false,
    "ein.tags": "worksheet-0",
    "slideshow": {
     "slide_type": "-"
    }
   },
   "outputs": [
    {
     "data": {
      "text/html": [
       "<div>\n<style scoped>\n    .dataframe tbody tr th:only-of-type {\n        vertical-align: middle;\n    }\n\n    .dataframe tbody tr th {\n        vertical-align: top;\n    }\n\n    .dataframe thead th {\n        text-align: right;\n    }\n</style>\n<table border=\"1\" class=\"dataframe\">\n  <thead>\n    <tr style=\"text-align: right;\">\n      <th></th>\n      <th>E</th>\n      <th>N</th>\n      <th>X</th>\n      <th>Y</th>\n      <th>GMDE</th>\n      <th>FJ85</th>\n      <th>FJ97</th>\n      <th>FJ09</th>\n      <th>FJ18</th>\n      <th>AS85R_17</th>\n      <th>AS97R_17</th>\n      <th>AS09R_17</th>\n      <th>AS18_17</th>\n      <th>AS85R_4</th>\n      <th>AS97R_4</th>\n      <th>AS09R_4</th>\n      <th>AS18_4</th>\n    </tr>\n    <tr>\n      <th>RELI</th>\n      <th></th>\n      <th></th>\n      <th></th>\n      <th></th>\n      <th></th>\n      <th></th>\n      <th></th>\n      <th></th>\n      <th></th>\n      <th></th>\n      <th></th>\n      <th></th>\n      <th></th>\n      <th></th>\n      <th></th>\n      <th></th>\n      <th></th>\n    </tr>\n  </thead>\n  <tbody>\n    <tr>\n      <th>48551097</th>\n      <td>2485500</td>\n      <td>1109700</td>\n      <td>485500</td>\n      <td>109700</td>\n      <td>6611</td>\n      <td>1980</td>\n      <td>1992</td>\n      <td>2004</td>\n      <td>2012</td>\n      <td>10</td>\n      <td>10</td>\n      <td>10</td>\n      <td>10</td>\n      <td>3</td>\n      <td>3</td>\n      <td>3</td>\n      <td>3</td>\n    </tr>\n    <tr>\n      <th>48551098</th>\n      <td>2485500</td>\n      <td>1109800</td>\n      <td>485500</td>\n      <td>109800</td>\n      <td>6611</td>\n      <td>1980</td>\n      <td>1992</td>\n      <td>2004</td>\n      <td>2012</td>\n      <td>10</td>\n      <td>10</td>\n      <td>10</td>\n      <td>10</td>\n      <td>3</td>\n      <td>3</td>\n      <td>3</td>\n      <td>3</td>\n    </tr>\n    <tr>\n      <th>48551099</th>\n      <td>2485500</td>\n      <td>1109900</td>\n      <td>485500</td>\n      <td>109900</td>\n      <td>6611</td>\n      <td>1980</td>\n      <td>1992</td>\n      <td>2004</td>\n      <td>2012</td>\n      <td>10</td>\n      <td>10</td>\n      <td>10</td>\n      <td>10</td>\n      <td>3</td>\n      <td>3</td>\n      <td>3</td>\n      <td>3</td>\n    </tr>\n    <tr>\n      <th>48551100</th>\n      <td>2485500</td>\n      <td>1110000</td>\n      <td>485500</td>\n      <td>110000</td>\n      <td>6611</td>\n      <td>1980</td>\n      <td>1992</td>\n      <td>2004</td>\n      <td>2012</td>\n      <td>10</td>\n      <td>10</td>\n      <td>10</td>\n      <td>10</td>\n      <td>3</td>\n      <td>3</td>\n      <td>3</td>\n      <td>3</td>\n    </tr>\n    <tr>\n      <th>48551101</th>\n      <td>2485500</td>\n      <td>1110100</td>\n      <td>485500</td>\n      <td>110100</td>\n      <td>6611</td>\n      <td>1980</td>\n      <td>1992</td>\n      <td>2004</td>\n      <td>2012</td>\n      <td>10</td>\n      <td>10</td>\n      <td>10</td>\n      <td>10</td>\n      <td>3</td>\n      <td>3</td>\n      <td>3</td>\n      <td>3</td>\n    </tr>\n  </tbody>\n</table>\n</div>"
      ],
      "text/plain": [
       "                E        N       X       Y  GMDE  FJ85  FJ97  FJ09  FJ18  \\\nRELI                                                                       \n48551097  2485500  1109700  485500  109700  6611  1980  1992  2004  2012   \n48551098  2485500  1109800  485500  109800  6611  1980  1992  2004  2012   \n48551099  2485500  1109900  485500  109900  6611  1980  1992  2004  2012   \n48551100  2485500  1110000  485500  110000  6611  1980  1992  2004  2012   \n48551101  2485500  1110100  485500  110100  6611  1980  1992  2004  2012   \n\n          AS85R_17  AS97R_17  AS09R_17  AS18_17  AS85R_4  AS97R_4  AS09R_4  \\\nRELI                                                                         \n48551097        10        10        10       10        3        3        3   \n48551098        10        10        10       10        3        3        3   \n48551099        10        10        10       10        3        3        3   \n48551100        10        10        10       10        3        3        3   \n48551101        10        10        10       10        3        3        3   \n\n          AS18_4  \nRELI              \n48551097       3  \n48551098       3  \n48551099       3  \n48551100       3  \n48551101       3  "
      ]
     },
     "execution_count": 4,
     "metadata": {},
     "output_type": "execute_result"
    }
   ],
   "source": [
    "ldf.head()"
   ]
  },
  {
   "cell_type": "markdown",
   "metadata": {
    "ein.tags": "worksheet-0",
    "slideshow": {
     "slide_type": "-"
    }
   },
   "source": [
    "Each row corresponds to a pixel, where `E`, `N` denote the coordinates of its centroid (in the [LV95 coordinate system](https://www.swisstopo.admin.ch/en/knowledge-facts/surveying-geodesy/reference-frames/local/lv95.html), or alternatively `X` and `Y` in [LV03](https://www.swisstopo.admin.ch/en/knowledge-facts/surveying-geodesy/reference-frames/local/lv03.html)).\n",
    "\n",
    "The `FJ85`, `FJ97`, `FJ09` and `FJ18` denote the exact years when the observations for each of the four survey periods were taken. See [the datset description (link in French)](https://www.bfs.admin.ch/bfs/fr/home/services/geostat/geodonnees-statistique-federale/sol-utilisation-couverture/statistique-suisse-superficie.html) for more information. The columns of the form *AS{survey_period}_{num_classes}* denote the land use/land cover class at its respective survey period. The free tier includes classifications for 17 and 4 land use/land cover classes.\n",
    "\n",
    "Let us first plot a land use/land cover column, e.g., the land use/land cover [classified into the 4 main classes](https://www.bfs.admin.ch/bfs/fr/home/services/geostat/geodonnees-statistique-federale/sol-utilisation-couverture/statistique-suisse-superficie/nomenclature-standard.html) for the 2013/18 survey. We can use any colormap that works with matplotlib. In this example, we will use one that is well suited for the 4 main classes classification, which is included within the swisslandastats library:"
   ]
  },
  {
   "cell_type": "code",
   "execution_count": 5,
   "metadata": {
    "autoscroll": false,
    "collapsed": false,
    "ein.hycell": false,
    "ein.tags": "worksheet-0",
    "slideshow": {
     "slide_type": "-"
    }
   },
   "outputs": [
    {
     "data": {
      "text/plain": [
       "<matplotlib.axes._subplots.AxesSubplot at 0x7f2d8b21f668>"
      ]
     },
     "execution_count": 5,
     "metadata": {},
     "output_type": "execute_result"
    },
    {
     "data": {
      "image/png": "[encoded data removed]",
      "text/plain": [
       "<Figure size 432x288 with 1 Axes>"
      ]
     },
     "metadata": {},
     "output_type": "display_data"
    }
   ],
   "source": [
    "ldf.plot('AS18_4', cmap=sls.noas04_4_cmap, legend=True)"
   ]
  },
  {
   "cell_type": "markdown",
   "metadata": {
    "ein.tags": "worksheet-0",
    "slideshow": {
     "slide_type": "-"
    }
   },
   "source": [
    "See the documentation for `LandDataFrame.plot` for more details.\n",
    "\n",
    "On the other hand, we can use the `to_ndarray` method to transform any column to a numpy array:"
   ]
  },
  {
   "cell_type": "code",
   "execution_count": 6,
   "metadata": {
    "autoscroll": false,
    "collapsed": false,
    "ein.hycell": false,
    "ein.tags": "worksheet-0",
    "slideshow": {
     "slide_type": "-"
    }
   },
   "outputs": [
    {
     "data": {
      "text/plain": [
       "array([[3, 0, 0, ..., 0, 0, 0],\n       [0, 0, 0, ..., 0, 0, 0],\n       [0, 0, 0, ..., 0, 0, 0],\n       ...,\n       [3, 3, 2, ..., 0, 0, 0],\n       [3, 3, 3, ..., 0, 0, 0],\n       [3, 2, 2, ..., 0, 0, 0]], dtype=uint8)"
      ]
     },
     "execution_count": 6,
     "metadata": {},
     "output_type": "execute_result"
    }
   ],
   "source": [
    "ldf.to_ndarray('AS18_4')"
   ]
  },
  {
   "cell_type": "markdown",
   "metadata": {
    "ein.tags": "worksheet-0",
    "slideshow": {
     "slide_type": "-"
    }
   },
   "source": [
    "Or also export any column to a GeoTiff file by means of the `to_geotiff` method, where the first argument corresponds to the output file path, and the second to the data column:"
   ]
  },
  {
   "cell_type": "code",
   "execution_count": 7,
   "metadata": {
    "autoscroll": false,
    "collapsed": false,
    "ein.hycell": false,
    "ein.tags": "worksheet-0",
    "slideshow": {
     "slide_type": "-"
    }
   },
   "outputs": [],
   "source": [
    "ldf.to_geotiff('as18_4.tif', 'AS18_4')"
   ]
  },
  {
   "cell_type": "markdown",
   "metadata": {
    "ein.tags": "worksheet-0",
    "slideshow": {
     "slide_type": "-"
    }
   },
   "source": [
    "## Basic transformations"
   ]
  },
  {
   "cell_type": "markdown",
   "metadata": {
    "ein.tags": "worksheet-0",
    "slideshow": {
     "slide_type": "-"
    }
   },
   "source": [
    "We can operate over a `LandDataFrame` as we would do with any pandas `DataFrame`. For example, we can create a new column that represents the pixels that have been transformed from non-urban to urban during the 2004/09-2013/18 period:"
   ]
  },
  {
   "cell_type": "code",
   "execution_count": 8,
   "metadata": {
    "autoscroll": false,
    "collapsed": false,
    "ein.hycell": false,
    "ein.tags": "worksheet-0",
    "slideshow": {
     "slide_type": "-"
    }
   },
   "outputs": [],
   "source": [
    "ldf['urban_09-18'] = (ldf['AS18_4'] == 1) & (ldf['AS09R_4'] != 1)"
   ]
  },
  {
   "cell_type": "markdown",
   "metadata": {
    "ein.tags": "worksheet-0",
    "slideshow": {
     "slide_type": "-"
    }
   },
   "source": [
    "Let us plot the new column:"
   ]
  },
  {
   "cell_type": "code",
   "execution_count": 9,
   "metadata": {
    "autoscroll": false,
    "collapsed": false,
    "ein.hycell": false,
    "ein.tags": "worksheet-0",
    "slideshow": {
     "slide_type": "-"
    }
   },
   "outputs": [
    {
     "data": {
      "text/plain": [
       "<matplotlib.axes._subplots.AxesSubplot at 0x7f2d717b5ef0>"
      ]
     },
     "execution_count": 9,
     "metadata": {},
     "output_type": "execute_result"
    },
    {
     "data": {
      "image/png": "[encoded data removed]",
      "text/plain": [
       "<Figure size 720x360 with 2 Axes>"
      ]
     },
     "metadata": {},
     "output_type": "display_data"
    }
   ],
   "source": [
    "import matplotlib.pyplot as plt\n",
    "\n",
    "fig, axes = plt.subplots(1, 2, figsize=(10, 5))\n",
    "ldf.plot('AS09R_4', cmap=sls.noas04_4_cmap, ax=axes[0])\n",
    "ldf.plot('urban_09-18', ax=axes[1])"
   ]
  },
  {
   "cell_type": "markdown",
   "metadata": {
    "ein.tags": "worksheet-0",
    "slideshow": {
     "slide_type": "-"
    }
   },
   "source": [
    "We might also subset our region by selecting a set of rows of interest:"
   ]
  },
  {
   "cell_type": "code",
   "execution_count": 10,
   "metadata": {
    "autoscroll": false,
    "collapsed": false,
    "ein.hycell": false,
    "ein.tags": "worksheet-0",
    "slideshow": {
     "slide_type": "-"
    }
   },
   "outputs": [
    {
     "data": {
      "text/plain": [
       "<matplotlib.axes._subplots.AxesSubplot at 0x7f2d716d5080>"
      ]
     },
     "execution_count": 10,
     "metadata": {},
     "output_type": "execute_result"
    },
    {
     "data": {
      "image/png": "[encoded data removed]",
      "text/plain": [
       "<Figure size 432x288 with 1 Axes>"
      ]
     },
     "metadata": {},
     "output_type": "display_data"
    }
   ],
   "source": [
    "ldf.iloc[:100000].plot('AS09R_4', cmap=sls.noas04_4_cmap)"
   ]
  },
  {
   "cell_type": "markdown",
   "metadata": {
    "ein.tags": "worksheet-0",
    "slideshow": {
     "slide_type": "-"
    }
   },
   "source": [
    "## Geometric transformations"
   ]
  },
  {
   "cell_type": "markdown",
   "metadata": {
    "ein.tags": "worksheet-0",
    "slideshow": {
     "slide_type": "-"
    }
   },
   "source": [
    "Selecting pixel rows is not the most natural way to extract geographic regions. Instead, we can clip a `LandDataFrame` instance to the extents of a given geometry. Note that .\n",
    "\n",
    "Let us first use osmnx in order to obtain the bounds of a region of interest, e.g., the municipality of Lausanne:"
   ]
  },
  {
   "cell_type": "code",
   "execution_count": 11,
   "metadata": {
    "autoscroll": false,
    "collapsed": false,
    "ein.hycell": false,
    "ein.tags": "worksheet-0",
    "slideshow": {
     "slide_type": "-"
    }
   },
   "outputs": [],
   "source": [
    "import osmnx as ox\n",
    "\n",
    "geometry = ox.gdf_from_place('Lausanne, Vaud')['geometry'].iloc[0]"
   ]
  },
  {
   "cell_type": "markdown",
   "metadata": {
    "ein.tags": "worksheet-0",
    "slideshow": {
     "slide_type": "-"
    }
   },
   "source": [
    "Now we can use the `clip_by_geometry` method in order to clip the `LandDataFrame` to the extents of such geometry. Just note that the [coordinate reference system](https://en.wikipedia.org/wiki/Spatial_reference_system) of the geometry must be provided, otherwise, the one from the swisslandstats' `settings` module will be taken (i.e., [EPSG:2056](https://spatialreference.org/ref/epsg/2056) by default). Since the geometry of this example has been extracted from the OpenStreetMap, it will be in [EPSG:4326](https://spatialreference.org/ref/epsg/4326)."
   ]
  },
  {
   "cell_type": "code",
   "execution_count": 12,
   "metadata": {
    "autoscroll": false,
    "collapsed": false,
    "ein.hycell": false,
    "ein.tags": "worksheet-0",
    "slideshow": {
     "slide_type": "-"
    }
   },
   "outputs": [
    {
     "data": {
      "text/plain": [
       "<matplotlib.axes._subplots.AxesSubplot at 0x7f2d71719f98>"
      ]
     },
     "execution_count": 12,
     "metadata": {},
     "output_type": "execute_result"
    },
    {
     "data": {
      "image/png": "[encoded data removed]",
      "text/plain": [
       "<Figure size 432x288 with 1 Axes>"
      ]
     },
     "metadata": {},
     "output_type": "display_data"
    }
   ],
   "source": [
    "subset_ldf = ldf.clip_by_geometry(geometry, geometry_crs={'init': 'epsg:4326'})\n",
    "subset_ldf.plot('AS09R_4', cmap=sls.noas04_4_cmap)"
   ]
  },
  {
   "cell_type": "markdown",
   "metadata": {
    "ein.tags": "worksheet-0",
    "slideshow": {
     "slide_type": "-"
    }
   },
   "source": [
    "Also note that clipping `LandDataFrame` instances by geometries might still be [due to the current implementation of geopandas](https://jorisvandenbossche.github.io/blog/2017/09/19/geopandas-cython/). Hopefully, [this will be resolved soon](https://github.com/geopandas/geopandas/issues/473) and we can expect significant speed-ups in such geometric operations.\n",
    "\n",
    "In any case, the `clip_by_nominatim` method provides a shortcut for what has been done above:"
   ]
  },
  {
   "cell_type": "code",
   "execution_count": 13,
   "metadata": {
    "autoscroll": false,
    "collapsed": false,
    "ein.hycell": false,
    "ein.tags": "worksheet-0",
    "slideshow": {
     "slide_type": "-"
    }
   },
   "outputs": [
    {
     "data": {
      "text/plain": [
       "<matplotlib.axes._subplots.AxesSubplot at 0x7f2d71207dd8>"
      ]
     },
     "execution_count": 13,
     "metadata": {},
     "output_type": "execute_result"
    },
    {
     "data": {
      "image/png": "[encoded data removed]",
      "text/plain": [
       "<Figure size 432x288 with 1 Axes>"
      ]
     },
     "metadata": {},
     "output_type": "display_data"
    }
   ],
   "source": [
    "same_subset_ldf = ldf.clip_by_nominatim('Lausanne, Vaud')\n",
    "same_subset_ldf.plot('AS09R_4', cmap=sls.noas04_4_cmap)"
   ]
  }
 ],
 "metadata": {
  "kernelspec": {
   "display_name": "Python 3",
   "language": "python",
   "name": "python3"
  },
  "language_info": {
   "codemirror_mode": {
    "name": "ipython",
    "version": 3
   },
   "file_extension": ".py",
   "mimetype": "text/x-python",
   "name": "python",
   "nbconvert_exporter": "python",
   "pygments_lexer": "ipython3",
   "version": "3.7.3"
  },
  "name": "overview.ipynb"
 },
 "nbformat": 4,
 "nbformat_minor": 2
}
